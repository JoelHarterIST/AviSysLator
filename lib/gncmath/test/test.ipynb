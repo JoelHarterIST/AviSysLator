{
 "cells": [
  {
   "cell_type": "code",
   "execution_count": 35,
   "id": "266b046b",
   "metadata": {},
   "outputs": [],
   "source": [
    "import numpy as np\n",
    "import quaternion\n",
    "from numpy import linalg as la\n",
    "from scipy.spatial.transform import Rotation as R\n",
    "from pyquaternion import Quaternion\n",
    "# from scipy import conjugate\n",
    "\n",
    "def print_mat(m0, trans=0):\n",
    "    print(\"----------------\")    \n",
    "    print(\"mat\")\n",
    "    if trans == 1:\n",
    "        m = np.transpose(m0)\n",
    "    else: \n",
    "        m = m0\n",
    "    #m = np.transpose(m0)\n",
    "    print(f\"{m[0,0]}, {m[0,1]}, {m[0,2]}\")\n",
    "    print(f\"{m[1,0]}, {m[1,1]}, {m[1,2]}\")\n",
    "    print(f\"{m[2,0]}, {m[2,1]}, {m[2,2]}\")\n",
    "    print(\"----------------\") \n",
    "    \n",
    "def print_vec(v):\n",
    "    print(f\"{v[0]}, {v[1]}, {v[2]}\")\n",
    "\n",
    "def print_quat(q, sci=1):\n",
    "    print(\"----------------\")\n",
    "    print(\"quat\")\n",
    "    if sci == 1:\n",
    "        print(f\"{q[0]}, {q[1]}, {q[2]}, {q[3]}\")\n",
    "        #q = quaternion.as_float_array(q)\n",
    "    else:\n",
    "        print(f\"{q[3]}, {q[0]}, {q[1]}, {q[2]}\")\n",
    "        # q = quaternion.as_float_array(q)\n",
    "        # q = np.array([q[3], q[0], q[1], q[2]])\n",
    "    print(\"----------------\")       "
   ]
  },
  {
   "cell_type": "code",
   "execution_count": 36,
   "id": "51c25bb0",
   "metadata": {},
   "outputs": [
    {
     "name": "stdout",
     "output_type": "stream",
     "text": [
      "4.58257569495584\n",
      "0.2182178902359924 -0.4364357804719848 0.8728715609439696\n",
      "5.361902647381804\n",
      "0.27975144247209416 -0.4662524041201569 0.8392543274162825\n"
     ]
    }
   ],
   "source": [
    "# ベクトルのノルムを計算する\n",
    "x = np.array([1, -2, 4])\n",
    "n = la.norm(x,2) # ベクトル: 1-ノルム\n",
    "print(n)\n",
    "ret = x/n\n",
    "print(ret[0], ret[1], ret[2])\n",
    "\n",
    "\n",
    "\n",
    "x = np.array([1.5, -2.5, 4.5])\n",
    "n = la.norm(x,2) # ベクトル: 1-ノルム\n",
    "print(n)\n",
    "ret = x/n\n",
    "print(ret[0], ret[1], ret[2])\n",
    "\n"
   ]
  },
  {
   "cell_type": "code",
   "execution_count": 37,
   "id": "52bee296",
   "metadata": {},
   "outputs": [
    {
     "name": "stdout",
     "output_type": "stream",
     "text": [
      "2.5 -4.5 8.5\n"
     ]
    }
   ],
   "source": [
    "# ベクトルの和\n",
    "x = np.array([1, -2, 4])\n",
    "y = np.array([1.5, -2.5, 4.5])\n",
    "z = x + y\n",
    "print(z[0], z[1], z[2])"
   ]
  },
  {
   "cell_type": "code",
   "execution_count": 38,
   "id": "e6ab8726",
   "metadata": {},
   "outputs": [
    {
     "name": "stdout",
     "output_type": "stream",
     "text": [
      "-0.5 0.5 -0.5\n"
     ]
    }
   ],
   "source": [
    "# ベクトルの差\n",
    "x = np.array([1, -2, 4])\n",
    "y = np.array([1.5, -2.5, 4.5])\n",
    "z = x - y\n",
    "print(z[0], z[1], z[2])"
   ]
  },
  {
   "cell_type": "code",
   "execution_count": 39,
   "id": "dfe4177b",
   "metadata": {},
   "outputs": [
    {
     "name": "stdout",
     "output_type": "stream",
     "text": [
      "0.75 -1.25 2.25\n",
      "-0.75 1.25 -2.25\n",
      "2.25 -3.75 6.75\n"
     ]
    }
   ],
   "source": [
    "#ベクトルのスカラー倍\n",
    "x = np.array([1.5, -2.5, 4.5])\n",
    "z = x * 0.5\n",
    "print(z[0], z[1], z[2])\n",
    "\n",
    "z = x * -0.5\n",
    "print(z[0], z[1], z[2])\n",
    "\n",
    "z = x * 1.5\n",
    "print(z[0], z[1], z[2])"
   ]
  },
  {
   "cell_type": "code",
   "execution_count": 40,
   "id": "66fed9e9",
   "metadata": {},
   "outputs": [
    {
     "name": "stdout",
     "output_type": "stream",
     "text": [
      "1.5 5.0 18.0\n",
      "3.0 5.0 18.0\n",
      "1.5 7.5 18.0\n",
      "1.5 5.0 22.5\n"
     ]
    }
   ],
   "source": [
    "# ベクトルの積\n",
    "x = np.array([1, -2, 4])\n",
    "y = np.array([1.5, -2.5, 4.5])\n",
    "z = x * y\n",
    "print(z[0], z[1], z[2])\n",
    "\n",
    "x0 = np.array([1, -2, 4])\n",
    "x0[0] += 1\n",
    "z = x0 * y\n",
    "# print(x0[0], x0[1], x0[2])\n",
    "print(z[0], z[1], z[2])\n",
    "\n",
    "x0 = np.array([1, -2, 4])\n",
    "x0[1] -= 1\n",
    "z = x0 * y\n",
    "# print(x0[0], x0[1], x0[2])\n",
    "print(z[0], z[1], z[2])\n",
    "\n",
    "x0 = np.array([1, -2, 4])\n",
    "x0[2] += 1\n",
    "z = x0 * y\n",
    "print(z[0], z[1], z[2])\n",
    "\n"
   ]
  },
  {
   "cell_type": "code",
   "execution_count": 41,
   "id": "35f52772",
   "metadata": {},
   "outputs": [
    {
     "name": "stdout",
     "output_type": "stream",
     "text": [
      "24.5\n",
      "26.0\n",
      "27.0\n",
      "29.0\n"
     ]
    }
   ],
   "source": [
    "# ベクトルの内積\n",
    "x = np.array([1, -2, 4])\n",
    "y = np.array([1.5, -2.5, 4.5])\n",
    "z = x @ y\n",
    "print(z)\n",
    "\n",
    "x0 = np.array([1, -2, 4])\n",
    "x0[0] += 1\n",
    "z = np.inner(x0 , y)\n",
    "# print(x0[0], x0[1], x0[2])\n",
    "print(z)\n",
    "\n",
    "x0 = np.array([1, -2, 4])\n",
    "x0[1] -= 1\n",
    "z = np.inner(x0 , y)\n",
    "# print(x0[0], x0[1], x0[2])\n",
    "print(z)\n",
    "\n",
    "x0 = np.array([1, -2, 4])\n",
    "x0[2] += 1\n",
    "z = np.inner(x0 , y)\n",
    "print(z)"
   ]
  },
  {
   "cell_type": "code",
   "execution_count": 42,
   "id": "de12474f",
   "metadata": {},
   "outputs": [
    {
     "name": "stdout",
     "output_type": "stream",
     "text": [
      "1.0 1.5 0.5\n",
      "1.0 -3.0 -2.0\n",
      "-3.5 1.5 2.0\n",
      "3.5 3.0 0.5\n"
     ]
    }
   ],
   "source": [
    "# ベクトルの外積\n",
    "x = np.array([1, -2, 4])\n",
    "y = np.array([1.5, -2.5, 4.5])\n",
    "z = np.cross(x , y)\n",
    "print(z[0], z[1], z[2])\n",
    "\n",
    "x0 = np.array([1, -2, 4])\n",
    "x0[0] += 1\n",
    "z = np.cross(x0 , y)\n",
    "print(z[0], z[1], z[2])\n",
    "\n",
    "x0 = np.array([1, -2, 4])\n",
    "x0[1] -= 1\n",
    "z = np.cross(x0 , y)\n",
    "print(z[0], z[1], z[2])\n",
    "\n",
    "x0 = np.array([1, -2, 4])\n",
    "x0[2] += 1\n",
    "z = np.cross(x0 , y)\n",
    "print(z[0], z[1], z[2])\n"
   ]
  },
  {
   "cell_type": "code",
   "execution_count": 43,
   "id": "d9c51628",
   "metadata": {},
   "outputs": [
    {
     "name": "stdout",
     "output_type": "stream",
     "text": [
      "1.0 1.5 0.5\n",
      "1.0 -3.0 -2.0\n",
      "-3.5 1.5 2.0\n",
      "3.5 3.0 0.5\n"
     ]
    }
   ],
   "source": [
    "# ベクトルの外積\n",
    "x = np.array([1, -2, 4])\n",
    "y = np.array([1.5, -2.5, 4.5])\n",
    "z = np.cross(x , y)\n",
    "print(z[0], z[1], z[2])\n",
    "\n",
    "x0 = np.array([1, -2, 4])\n",
    "x0[0] += 1\n",
    "z = np.cross(x0 , y)\n",
    "print(z[0], z[1], z[2])\n",
    "\n",
    "x0 = np.array([1, -2, 4])\n",
    "x0[1] -= 1\n",
    "z = np.cross(x0 , y)\n",
    "print(z[0], z[1], z[2])\n",
    "\n",
    "x0 = np.array([1, -2, 4])\n",
    "x0[2] += 1\n",
    "z = np.cross(x0 , y)\n",
    "print(z[0], z[1], z[2])\n"
   ]
  },
  {
   "cell_type": "code",
   "execution_count": 44,
   "id": "9866d4fb",
   "metadata": {},
   "outputs": [
    {
     "name": "stdout",
     "output_type": "stream",
     "text": [
      "----------------\n",
      "mat\n",
      "1.0, 0.0, 0.0\n",
      "0.0, 0.8660254037844387, -0.49999999999999994\n",
      "0.0, 0.49999999999999994, 0.8660254037844387\n",
      "----------------\n",
      "1.5, 0.08493649053890293, 5.147114317029974\n",
      "----------------\n",
      "mat\n",
      "0.8660254037844387, 0.0, 0.49999999999999994\n",
      "0.0, 1.0, 0.0\n",
      "-0.49999999999999994, 0.0, 0.8660254037844387\n",
      "----------------\n",
      "-0.9509618943233418, -2.5, 4.647114317029974\n",
      "----------------\n",
      "mat\n",
      "0.8660254037844387, -0.49999999999999994, 0.0\n",
      "0.49999999999999994, 0.8660254037844387, 0.0\n",
      "0.0, 0.0, 1.0\n",
      "----------------\n",
      "0.04903810567665828, -2.915063509461097, 4.5\n"
     ]
    }
   ],
   "source": [
    "# マトリックスとベクトルの積\n",
    "def x_rotation(x):\n",
    "    return np.array([[1, 0, 0],\n",
    "                     [0, np.cos(x), np.sin(x)],\n",
    "                     [0, -np.sin(x), np.cos(x)]])\n",
    "    # return np.array([[1, 0, 0],\n",
    "    #                  [0, np.cos(x), -np.sin(x)],\n",
    "    #                  [0, np.sin(x), np.cos(x)]])\n",
    "\n",
    "def y_rotation(y):\n",
    "    return np.array([[np.cos(y), 0, -np.sin(y)],\n",
    "                     [0, 1, 0],\n",
    "                     [np.sin(y), 0, np.cos(y)]])\n",
    "    # return np.array([[np.cos(y), 0, np.sin(y)],\n",
    "    #                  [0, 1, 0],\n",
    "    #                  [-np.sin(y), 0, np.cos(y)]])\n",
    "    \n",
    "def z_rotation(z):\n",
    "    return np.array([[np.cos(z), np.sin(z), 0],\n",
    "                     [-np.sin(z), np.cos(z), 0],\n",
    "                     [0, 0, 1]])\n",
    "    # return np.array([[np.cos(z), -np.sin(z), 0],\n",
    "    #                  [np.sin(z), np.cos(z), 0],\n",
    "    #                  [0, 0, 1]])\n",
    "\n",
    "\n",
    "\n",
    "def rotation(v):    \n",
    "    # v = np.array([30, 0, 0])\n",
    "    v = np.deg2rad(v) \n",
    "    m0 = np.dot(x_rotation(v[0]), y_rotation(v[1])) \n",
    "    m1 = np.dot(m0, z_rotation(v[2]))    \n",
    "    \n",
    "    print(\"mat\")\n",
    "    print(m1[0,0], m1[0,1], m1[0,2])\n",
    "    print(m1[1,0], m1[1,1], m1[1,2])\n",
    "    print(m1[2,0], m1[2,1], m1[2,2])\n",
    "    print(\"----------------\")\n",
    "    return m1\n",
    "\n",
    "\n",
    "m = x_rotation(np.radians(30))        \n",
    "v = np.array([1.5, -2.5, 4.5])\n",
    "v1 = m@v\n",
    "print_mat(m,1)\n",
    "print_vec(v1)\n",
    "\n",
    "m = y_rotation(np.radians(30))        \n",
    "v = np.array([1.5, -2.5, 4.5])\n",
    "v1 = np.dot(m, v)\n",
    "print_mat(m,1)\n",
    "print_vec(v1)\n",
    "\n",
    "m = z_rotation(np.radians(30))        \n",
    "v = np.array([1.5, -2.5, 4.5])\n",
    "v1 = np.dot(m, v)\n",
    "print_mat(m,1)\n",
    "print_vec(v1)\n"
   ]
  },
  {
   "cell_type": "code",
   "execution_count": 45,
   "id": "f8dd7d12",
   "metadata": {},
   "outputs": [
    {
     "name": "stdout",
     "output_type": "stream",
     "text": [
      "Rotation Matrix:\n",
      "----------------\n",
      "mat\n",
      "0.35355339059327384, -0.5732233047033631, 0.7391989197401165\n",
      "0.6123724356957946, 0.7391989197401166, 0.28033008588991065\n",
      "-0.7071067811865475, 0.35355339059327373, 0.6123724356957946\n",
      "----------------\n",
      "----------------\n",
      "mat\n",
      "0.43301270189221946, 0.17677669529663687, 0.8838834764831843\n",
      "0.25, 0.9185586535436917, -0.30618621784789724\n",
      "-0.8660254037844386, 0.3535533905932738, 0.35355339059327384\n",
      "----------------\n",
      "----------------\n",
      "mat\n",
      "0.6123724356957946, -0.04736717274537657, 0.7891491309924313\n",
      "0.6123724356957945, 0.659739608441171, -0.4355957403991577\n",
      "-0.49999999999999994, 0.75, 0.43301270189221946\n",
      "----------------\n",
      "GimbalLock:\n",
      "----------------\n",
      "mat\n",
      "0.35355339059327384, 0.35355339059327373, 0.8660254037844386\n",
      "0.6123724356957946, 0.6123724356957945, -0.5000000000000001\n",
      "-0.7071067811865475, 0.7071067811865476, 4.329780281177467e-17\n",
      "----------------\n",
      "----------------\n",
      "mat\n",
      "3.0616169978683836e-17, -0.5, 0.8660254037844387\n",
      "5.302876193624534e-17, 0.8660254037844387, 0.5\n",
      "-1.0, 3.0616169978683824e-17, 5.3028761936245346e-17\n",
      "----------------\n",
      "----------------\n",
      "mat\n",
      "4.329780281177467e-17, -0.8660254037844387, 0.5\n",
      "0.7071067811865476, 0.35355339059327373, 0.6123724356957945\n",
      "-0.7071067811865475, 0.35355339059327373, 0.6123724356957946\n",
      "----------------\n"
     ]
    }
   ],
   "source": [
    "# オイラー角から回転行列を計算\n",
    "def euler_to_rotation_matrix(roll, pitch, yaw):\n",
    "    # Roll (X軸周りの回転)\n",
    "    R_x = x_rotation(np.radians(roll))\n",
    "\n",
    "    # Pitch (Y軸周りの回転)\n",
    "    R_y = y_rotation(np.radians(pitch))\n",
    "\n",
    "    # Yaw (Z軸周りの回転)\n",
    "    R_z = z_rotation(np.radians(yaw))\n",
    "\n",
    "    # 回転行列を合成\n",
    "    rot = np.dot(R_x, np.dot(R_y, R_z))\n",
    "    print_mat(rot,1)\n",
    "    \n",
    "    # euler = np.array([np.radians(roll) , np.radians(pitch), np.radians(yaw)])\n",
    "    # rot = Rotation.from_euler('xyz', euler)\n",
    "    # print_mat(rot.as_matrix(), 0)\n",
    "    # print(rot.as_euler('xyz', degrees=False))\n",
    "    return rot\n",
    "\n",
    "\n",
    "# 回転行列を計算\n",
    "print(\"Rotation Matrix:\")\n",
    "rotation_matrix = euler_to_rotation_matrix(30, 45, 60)\n",
    "rotation_matrix = euler_to_rotation_matrix(45, 60, 30)\n",
    "rotation_matrix = euler_to_rotation_matrix(60, 30, 45)\n",
    "\n",
    "print(\"GimbalLock:\")\n",
    "rotation_matrix = euler_to_rotation_matrix(90, 45, 60)\n",
    "rotation_matrix = euler_to_rotation_matrix(30, 90, 60)\n",
    "rotation_matrix = euler_to_rotation_matrix(30, 45, 90)\n"
   ]
  },
  {
   "cell_type": "code",
   "execution_count": 46,
   "id": "4b20fa23",
   "metadata": {},
   "outputs": [
    {
     "name": "stdout",
     "output_type": "stream",
     "text": [
      "----------------\n",
      "mat\n",
      "0.35355339059327384, -0.5732233047033631, 0.7391989197401165\n",
      "0.6123724356957946, 0.7391989197401166, 0.28033008588991065\n",
      "-0.7071067811865475, 0.35355339059327373, 0.6123724356957946\n",
      "----------------\n",
      "----------------\n",
      "mat\n",
      "0.35355339059327384, 0.6123724356957946, -0.7071067811865475\n",
      "-0.5732233047033631, 0.7391989197401166, 0.35355339059327373\n",
      "0.7391989197401165, 0.28033008588991065, 0.6123724356957946\n",
      "----------------\n"
     ]
    }
   ],
   "source": [
    "# 転置行列を計算\n",
    "rotation_matrix = euler_to_rotation_matrix(30, 45, 60)\n",
    "print_mat(np.transpose(rotation_matrix),1)\n"
   ]
  },
  {
   "cell_type": "code",
   "execution_count": 47,
   "id": "3cba6817",
   "metadata": {},
   "outputs": [
    {
     "name": "stdout",
     "output_type": "stream",
     "text": [
      "----------------\n",
      "mat\n",
      "0.35355339059327384, -0.5732233047033631, 0.7391989197401165\n",
      "0.6123724356957946, 0.7391989197401166, 0.28033008588991065\n",
      "-0.7071067811865475, 0.35355339059327373, 0.6123724356957946\n",
      "----------------\n",
      "1.0\n"
     ]
    }
   ],
   "source": [
    "# 行列のDeterminantを計算\n",
    "rotation_matrix = euler_to_rotation_matrix(30, 45, 60)\n",
    "print(np.linalg.det(rotation_matrix))"
   ]
  },
  {
   "cell_type": "code",
   "execution_count": 48,
   "id": "c70f2d7d",
   "metadata": {},
   "outputs": [
    {
     "name": "stdout",
     "output_type": "stream",
     "text": [
      "----------------\n",
      "mat\n",
      "0.35355339059327384, -0.5732233047033631, 0.7391989197401165\n",
      "0.6123724356957946, 0.7391989197401166, 0.28033008588991065\n",
      "-0.7071067811865475, 0.35355339059327373, 0.6123724356957946\n",
      "----------------\n",
      "----------------\n",
      "mat\n",
      "0.35355339059327384, 0.6123724356957945, -0.7071067811865475\n",
      "-0.5732233047033631, 0.7391989197401165, 0.3535533905932737\n",
      "0.7391989197401168, 0.28033008588991054, 0.6123724356957946\n",
      "----------------\n"
     ]
    }
   ],
   "source": [
    "# 行列の逆行列を計算\n",
    "rotation_matrix = euler_to_rotation_matrix(30, 45, 60)\n",
    "print_mat(np.linalg.inv(rotation_matrix),1)"
   ]
  },
  {
   "cell_type": "code",
   "execution_count": 49,
   "id": "c0d9f6e4",
   "metadata": {},
   "outputs": [
    {
     "name": "stdout",
     "output_type": "stream",
     "text": [
      "----------------\n",
      "mat\n",
      "1.0, 0.0, 0.0\n",
      "0.0, 0.8660254037844387, -0.49999999999999994\n",
      "0.0, 0.49999999999999994, 0.8660254037844387\n",
      "----------------\n",
      "----------------\n",
      "mat\n",
      "0.7071067811865476, 0.0, 0.7071067811865475\n",
      "0.0, 1.0, 0.0\n",
      "-0.7071067811865475, 0.0, 0.7071067811865476\n",
      "----------------\n",
      "----------------\n",
      "mat\n",
      "0.5000000000000001, -0.8660254037844386, 0.0\n",
      "0.8660254037844386, 0.5000000000000001, 0.0\n",
      "0.0, 0.0, 1.0\n",
      "----------------\n",
      "----------------\n",
      "mat\n",
      "0.35355339059327384, -0.8660254037844386, 0.3535533905932738\n",
      "0.6123724356957946, 0.5000000000000001, 0.6123724356957945\n",
      "-0.7071067811865475, 0.0, 0.7071067811865476\n",
      "----------------\n",
      "----------------\n",
      "mat\n",
      "0.35355339059327384, -0.5732233047033631, 0.7391989197401165\n",
      "0.6123724356957946, 0.7391989197401166, 0.28033008588991065\n",
      "-0.7071067811865475, 0.35355339059327373, 0.6123724356957946\n",
      "----------------\n"
     ]
    }
   ],
   "source": [
    "# 行列の積\n",
    "roll = np.radians(30)   # X軸周りの回転角（ロール）\n",
    "pitch = np.radians(45)  # Y軸周りの回転角（ピッチ）\n",
    "yaw = np.radians(60)    # Z軸周りの回転角（ヨー）\n",
    "\n",
    "# Roll (X軸周りの回転)\n",
    "R_x = x_rotation(roll)\n",
    "\n",
    "# Pitch (Y軸周りの回転)\n",
    "R_y = y_rotation(pitch)\n",
    "\n",
    "# Yaw (Z軸周りの回転)\n",
    "R_z = z_rotation(yaw)\n",
    "\n",
    "print_mat(R_x,1)\n",
    "print_mat(R_y,1)\n",
    "print_mat(R_z,1)\n",
    "\n",
    "# 回転行列を合成\n",
    "rot = np.dot(R_y, R_z)\n",
    "print_mat(rot,1)\n",
    "rot = np.dot(R_x, rot)\n",
    "print_mat(rot,1)\n",
    "\n"
   ]
  },
  {
   "cell_type": "code",
   "execution_count": 50,
   "id": "76c88709",
   "metadata": {},
   "outputs": [
    {
     "name": "stdout",
     "output_type": "stream",
     "text": [
      "5.477225575051661\n",
      "quaternion(0.182574185835055, 0.365148371670111, 0.547722557505166, 0.730296743340221)\n",
      "6.4031242374328485\n",
      "quaternion(0.234260642832909, -0.390434404721515, 0.702781928498727, -0.546608166610121)\n"
     ]
    }
   ],
   "source": [
    "# クォーターニオンのノルムと正規化の計算\n",
    "q = np.quaternion(1, 2, 3, 4)\n",
    "print(q.abs())\n",
    "print(q.normalized())\n",
    "\n",
    "q = np.quaternion(1.5, -2.5, 4.5, -3.5)\n",
    "print(q.abs())\n",
    "print(q.normalized())\n",
    "\n"
   ]
  },
  {
   "cell_type": "code",
   "execution_count": 51,
   "id": "7d815db1",
   "metadata": {},
   "outputs": [
    {
     "name": "stdout",
     "output_type": "stream",
     "text": [
      "5.477225575051661\n",
      "quaternion(0.182574185835055, 0.365148371670111, 0.547722557505166, 0.730296743340221)\n",
      "6.4031242374328485\n",
      "quaternion(0.234260642832909, -0.390434404721515, 0.702781928498727, -0.546608166610121)\n"
     ]
    }
   ],
   "source": [
    "# クォーターニオンのノルムと正規化の計算\n",
    "q = np.quaternion(1, 2, 3, 4)\n",
    "print(q.abs())\n",
    "print(q.normalized())\n",
    "\n",
    "q = np.quaternion(1.5, -2.5, 4.5, -3.5)\n",
    "print(q.abs())\n",
    "print(q.normalized())\n"
   ]
  },
  {
   "cell_type": "code",
   "execution_count": 52,
   "id": "c8a97ed2",
   "metadata": {},
   "outputs": [
    {
     "name": "stdout",
     "output_type": "stream",
     "text": [
      "--------------------\n",
      "----------------\n",
      "quat\n",
      "0.8223631719059994, 0.022260026714733816, 0.43967973954090955, 0.3604234056503559\n",
      "----------------\n",
      "0.5235987755982987, 0.7853981633974483, 1.0471975511965976\n",
      "----------------\n",
      "mat\n",
      "0.3535533905932739, -0.573223304703363, 0.7391989197401166\n",
      "0.6123724356957945, 0.7391989197401168, 0.2803300858899106\n",
      "-0.7071067811865476, 0.35355339059327373, 0.6123724356957946\n",
      "----------------\n",
      "----------------\n",
      "quat\n",
      "0.8223631719059994, -0.20056212114657512, 0.5319756951821668, -0.022260026714733844\n",
      "----------------\n",
      "-0.7853981633974485, 1.0471975511965974, -0.5235987755982989\n",
      "----------------\n",
      "mat\n",
      "0.4330127018922194, -0.1767766952966369, 0.8838834764831844\n",
      "-0.2500000000000001, 0.9185586535436918, 0.30618621784789735\n",
      "-0.8660254037844386, -0.35355339059327395, 0.35355339059327384\n",
      "----------------\n"
     ]
    }
   ],
   "source": [
    "# クォーターニオン関連\n",
    "def test_quat(roll, pitch, yaw):\n",
    "    euler = np.array([np.radians(roll) , np.radians(pitch), np.radians(yaw)])\n",
    "    rot = R.from_euler('xyz', euler)\n",
    "    q = rot.as_quat()\n",
    "    print_quat(q, 0)\n",
    "    v = rot.as_euler('xyz', degrees=False)\n",
    "    print_vec(v)\n",
    "    m = rot.as_matrix()\n",
    "    print_mat(m)\n",
    "    # print(\"conjugate\")\n",
    "    # print_quat(conjugate(q),0)\n",
    "\n",
    "print(\"--------------------\")\n",
    "test_quat(30, 45, 60)\n",
    "test_quat(-45, 60, -30)\n",
    "\n"
   ]
  },
  {
   "cell_type": "code",
   "execution_count": 53,
   "id": "9e69d82f",
   "metadata": {},
   "outputs": [
    {
     "name": "stdout",
     "output_type": "stream",
     "text": [
      "GynbalLock\n",
      "----------------\n",
      "quat\n",
      "0.7071067811865476, 0.7071067811865475, 0.0, 0.0\n",
      "----------------\n",
      "1.5707963267948966, 0.0, 0.0\n",
      "----------------\n",
      "mat\n",
      "1.0, 0.0, 0.0\n",
      "0.0, 2.220446049250313e-16, -1.0\n",
      "0.0, 1.0, 2.220446049250313e-16\n",
      "----------------\n",
      "----------------\n",
      "quat\n",
      "0.7071067811865476, 0.0, 0.7071067811865475, 0.0\n",
      "----------------\n",
      "-0.0, 1.5707963267948966, 0.0\n",
      "----------------\n",
      "mat\n",
      "2.220446049250313e-16, 0.0, 1.0\n",
      "0.0, 1.0, 0.0\n",
      "-1.0, 0.0, 2.220446049250313e-16\n",
      "----------------\n",
      "----------------\n",
      "quat\n",
      "0.7071067811865476, 0.0, 0.0, 0.7071067811865475\n",
      "----------------\n",
      "0.0, 0.0, 1.5707963267948966\n",
      "----------------\n",
      "mat\n",
      "2.220446049250313e-16, -1.0, 0.0\n",
      "1.0, 2.220446049250313e-16, 0.0\n",
      "0.0, 0.0, 1.0\n",
      "----------------\n"
     ]
    },
    {
     "name": "stderr",
     "output_type": "stream",
     "text": [
      "/home/yoshihisa_takahashi/.python3_venv/lib/python3.12/site-packages/IPython/core/interactiveshell.py:3577: UserWarning: Gimbal lock detected. Setting third angle to zero since it is not possible to uniquely determine all angles.\n",
      "  exec(code_obj, self.user_global_ns, self.user_ns)\n"
     ]
    }
   ],
   "source": [
    "print(\"GynbalLock\")\n",
    "test_quat(90, 0, 0)\n",
    "test_quat(0, 90, 0)\n",
    "test_quat(0, 0, 90)"
   ]
  },
  {
   "cell_type": "code",
   "execution_count": 54,
   "id": "94a53295",
   "metadata": {},
   "outputs": [
    {
     "name": "stdout",
     "output_type": "stream",
     "text": [
      "対角成分が負\n",
      "----------------\n",
      "quat\n",
      "0.25881904510252074, 0.9659258262890683, 0.0, 0.0\n",
      "----------------\n",
      "2.6179938779914944, 0.0, 0.0\n",
      "----------------\n",
      "mat\n",
      "1.0, 0.0, 0.0\n",
      "0.0, -0.8660254037844387, -0.49999999999999994\n",
      "0.0, 0.49999999999999994, -0.8660254037844387\n",
      "----------------\n",
      "----------------\n",
      "quat\n",
      "0.25881904510252074, 0.0, 0.9659258262890683, 0.0\n",
      "----------------\n",
      "3.141592653589793, 0.5235987755982987, 3.141592653589793\n",
      "----------------\n",
      "mat\n",
      "-0.8660254037844387, 0.0, 0.49999999999999994\n",
      "0.0, 1.0, 0.0\n",
      "-0.49999999999999994, 0.0, -0.8660254037844387\n",
      "----------------\n",
      "----------------\n",
      "quat\n",
      "0.25881904510252074, 0.0, 0.0, 0.9659258262890683\n",
      "----------------\n",
      "0.0, 0.0, 2.6179938779914944\n",
      "----------------\n",
      "mat\n",
      "-0.8660254037844387, -0.49999999999999994, 0.0\n",
      "0.49999999999999994, -0.8660254037844387, 0.0\n",
      "0.0, 0.0, 1.0\n",
      "----------------\n"
     ]
    }
   ],
   "source": [
    "print(\"対角成分が負\")\n",
    "test_quat(150, 0, 0)\n",
    "test_quat(0, 150, 0)\n",
    "test_quat(0, 0, 150)\n"
   ]
  },
  {
   "cell_type": "code",
   "execution_count": 55,
   "id": "d634517c",
   "metadata": {},
   "outputs": [
    {
     "name": "stdout",
     "output_type": "stream",
     "text": [
      "対角成分が負\n",
      "----------------\n",
      "quat\n",
      "0.38268343236508984, 0.9238795325112867, 0.0, 0.0\n",
      "----------------\n",
      "2.356194490192345, 0.0, 0.0\n",
      "----------------\n",
      "mat\n",
      "1.0, 0.0, 0.0\n",
      "0.0, -0.7071067811865475, -0.7071067811865477\n",
      "0.0, 0.7071067811865477, -0.7071067811865475\n",
      "----------------\n",
      "----------------\n",
      "quat\n",
      "0.42261826174069944, 0.0, 0.9063077870366499, 0.0\n",
      "----------------\n",
      "3.141592653589793, 0.8726646259971647, 3.141592653589793\n",
      "----------------\n",
      "mat\n",
      "-0.6427876096865393, 0.0, 0.766044443118978\n",
      "0.0, 1.0, 0.0\n",
      "-0.766044443118978, 0.0, -0.6427876096865393\n",
      "----------------\n",
      "----------------\n",
      "quat\n",
      "0.38268343236508984, 0.0, 0.0, 0.9238795325112867\n",
      "----------------\n",
      "0.0, 0.0, 2.356194490192345\n",
      "----------------\n",
      "mat\n",
      "-0.7071067811865475, -0.7071067811865477, 0.0\n",
      "0.7071067811865477, -0.7071067811865475, 0.0\n",
      "0.0, 0.0, 1.0\n",
      "----------------\n"
     ]
    }
   ],
   "source": [
    "print(\"対角成分が負\")\n",
    "test_quat(135, 0, 0)\n",
    "test_quat(0, 130, 0)\n",
    "test_quat(0, 0, 135)\n"
   ]
  },
  {
   "cell_type": "code",
   "execution_count": 56,
   "id": "f1a53f65",
   "metadata": {},
   "outputs": [
    {
     "name": "stdout",
     "output_type": "stream",
     "text": [
      "対角成分が負\n",
      "----------------\n",
      "quat\n",
      "0.3919038373291199, 0.7233174113647118, 0.5319756951821668, -0.20056212114657512\n",
      "----------------\n",
      "2.6179938779914944, 0.7853981633974483, 1.0471975511965979\n",
      "----------------\n",
      "mat\n",
      "0.35355339059327384, 0.9267766952966371, 0.12682648404432179\n",
      "0.6123724356957946, -0.12682648404432229, -0.7803300858899107\n",
      "-0.7071067811865477, 0.35355339059327373, -0.6123724356957946\n",
      "----------------\n",
      "----------------\n",
      "quat\n",
      "0.3919038373291199, -0.3604234056503559, 0.8223631719059994, -0.20056212114657512\n",
      "----------------\n",
      "-2.356194490192345, 0.5235987755982991, -2.0943951023931957\n",
      "----------------\n",
      "mat\n",
      "-0.4330127018922195, -0.4355957403991575, 0.7891491309924313\n",
      "-0.75, 0.659739608441171, -0.04736717274537672\n",
      "-0.4999999999999999, -0.6123724356957946, -0.6123724356957946\n",
      "----------------\n",
      "----------------\n",
      "quat\n",
      "0.39190383732911993, -0.3604234056503559, 0.43967973954090955, 0.7233174113647118\n",
      "----------------\n",
      "0.7853981633974481, 1.0471975511965974, 2.617993877991494\n",
      "----------------\n",
      "mat\n",
      "-0.43301270189221946, -0.8838834764831844, -0.17677669529663692\n",
      "0.25000000000000017, -0.3061862178478974, 0.9185586535436918\n",
      "-0.8660254037844386, 0.3535533905932739, 0.353553390593274\n",
      "----------------\n"
     ]
    }
   ],
   "source": [
    "print(\"対角成分が負\")\n",
    "\n",
    "test_quat(150, 45, 60)\n",
    "test_quat(45, 150, 60)\n",
    "test_quat(45, 60, 150)\n"
   ]
  },
  {
   "cell_type": "code",
   "execution_count": 57,
   "id": "63294a52",
   "metadata": {},
   "outputs": [
    {
     "name": "stdout",
     "output_type": "stream",
     "text": [
      "対角成分が負\n",
      "----------------\n",
      "quat\n",
      "0.32664074121909414, 0.29516030954033023, 0.3266407412190941, -0.8363564096865272\n",
      "----------------\n",
      "-0.5235987755982987, 0.7853981633974483, -2.6179938779914944\n",
      "----------------\n",
      "mat\n",
      "-0.6123724356957946, 0.7391989197401166, -0.2803300858899108\n",
      "-0.35355339059327384, -0.5732233047033634, -0.7391989197401165\n",
      "-0.7071067811865477, -0.3535533905932737, 0.6123724356957947\n",
      "----------------\n"
     ]
    }
   ],
   "source": [
    "print(\"対角成分が負\")\n",
    "\n",
    "test_quat(150, 135, 30)\n",
    "# test_quat(45, 150, 60)\n",
    "# test_quat(45, 60, 150)"
   ]
  },
  {
   "cell_type": "code",
   "execution_count": 58,
   "id": "0ef04c38",
   "metadata": {},
   "outputs": [
    {
     "name": "stdout",
     "output_type": "stream",
     "text": [
      "----------------\n",
      "quat\n",
      "0.4548698042205856, -0.3481528504633321, 0.7272618713398046, 0.3781180032977912\n",
      "----------------\n",
      "----------------\n",
      "quat\n",
      "0.4340037194709008, -0.023683586372688303, 0.8749544401338115, 0.2133883476483185\n",
      "----------------\n",
      "----------------\n",
      "quat\n",
      "0.5445496711223732, 0.016046069276784397, 0.7275623730145923, 0.4169666326154349\n",
      "----------------\n"
     ]
    }
   ],
   "source": [
    "# クォーターニオンの積  \n",
    "def init_quat(roll, pitch, yaw):\n",
    "    euler = np.array([np.radians(roll) , np.radians(pitch), np.radians(yaw)])\n",
    "    rot = R.from_euler('xyz', euler)\n",
    "    return rot.as_quat(scalar_first=True)\n",
    "\n",
    "q0 = init_quat(30, 45, 60)\n",
    "q0 = Quaternion(q0[0], q0[1], q0[2], q0[3])\n",
    "q1 = init_quat(-45, 60, -30)\n",
    "q1 = Quaternion(q1[0], q1[1], q1[2], q1[3])\n",
    "\n",
    "q = q0 * q1\n",
    "print_quat(q)\n",
    "\n",
    "q0 = init_quat(45, 60, 30)\n",
    "q0 = Quaternion(q0[0], q0[1], q0[2], q0[3])    \n",
    "q = q0 * q1\n",
    "print_quat(q)\n",
    "\n",
    "q0 = init_quat(60, 30, 45)\n",
    "q0 = Quaternion(q0[0], q0[1], q0[2], q0[3])    \n",
    "q = q0 * q1\n",
    "print_quat(q)\n"
   ]
  },
  {
   "cell_type": "code",
   "execution_count": 59,
   "id": "4cec5189",
   "metadata": {},
   "outputs": [
    {
     "name": "stdout",
     "output_type": "stream",
     "text": [
      "----------------\n",
      "quat\n",
      "0.0, 0.01893323086506337, 0.15294483560914138, -0.4294783381688892\n",
      "----------------\n"
     ]
    }
   ],
   "source": [
    "# クォーターニオンの差\n",
    "def q_err(q0, q1):\n",
    "    # q0_conjugate = q0.conjugate\n",
    "    # q_diff = q0_conjugate * q1\n",
    "    q_diff = Quaternion.log_map(q0, q1)\n",
    "    return q_diff\n",
    "\n",
    "q0 = init_quat(30, 45, 60)\n",
    "q0 = Quaternion(q0[0], q0[1], q0[2], q0[3])\n",
    "q1 = init_quat(-45, 60, -30)\n",
    "q1 = Quaternion(q1[0], q1[1], q1[2], q1[3])\n",
    "\n",
    "q = q_err(q0, q1)\n",
    "# q3 = q0.conjugate\n",
    "# q = q3*q1\n",
    "print_quat(q)\n"
   ]
  },
  {
   "cell_type": "code",
   "execution_count": 60,
   "id": "a5d6f454",
   "metadata": {},
   "outputs": [
    {
     "name": "stdout",
     "output_type": "stream",
     "text": [
      "----------------\n",
      "quat\n",
      "0.0, 0.7853981633974483, 0.0, 0.0\n",
      "----------------\n"
     ]
    }
   ],
   "source": [
    "# クォーターニオンの積分\n",
    "# q0 = init_quat(30, 45, 60)\n",
    "# q0 = Quaternion(q0[0], q0[1], q0[2], q0[3])\n",
    "q0 = Quaternion()\n",
    "# v = np.array([np.deg2rad(1) , np.deg2rad(2), np.deg2rad(3)])\n",
    "# q1 = q0\n",
    "# q1.integrate(v, 1)\n",
    "# q1 = q1.normalised\n",
    "# print_quat(q1)\n",
    "\n",
    "v = np.array([np.deg2rad(90) , np.deg2rad(0), np.deg2rad(0)])\n",
    "q1 = q0\n",
    "# q1.integrate(v, 1)\n",
    "# #q1 = q1.normalised\n",
    "# print_quat(q1)\n",
    "\n",
    "\n",
    "q2 = q0.derivative(v)\n",
    "print_quat(q2)"
   ]
  },
  {
   "cell_type": "code",
   "execution_count": 61,
   "id": "671eb4d1",
   "metadata": {},
   "outputs": [
    {
     "name": "stdout",
     "output_type": "stream",
     "text": [
      "----------------\n",
      "quat\n",
      "0.0, 0.7853981633974483, 0.0, 0.0\n",
      "----------------\n",
      "----------------\n",
      "quat\n",
      "0.0, 0.0, 0.7853981633974483, 0.0\n",
      "----------------\n",
      "----------------\n",
      "quat\n",
      "0.0, 0.0, 0.0, 0.7853981633974483\n",
      "----------------\n",
      "----------------\n",
      "quat\n",
      "0.0, 0.2617993877991494, 0.0, 0.0\n",
      "----------------\n",
      "----------------\n",
      "quat\n",
      "0.0, 0.0, 0.2617993877991494, 0.0\n",
      "----------------\n",
      "----------------\n",
      "quat\n",
      "0.0, 0.0, 0.0, 0.2617993877991494\n",
      "----------------\n",
      "----------------\n",
      "quat\n",
      "0.0, 0.2617993877991494, 0.39269908169872414, 0.5235987755982988\n",
      "----------------\n",
      "----------------\n",
      "quat\n",
      "-0.017303977182951742, 0.012396686032552024, 0.016915466425197742, 0.01808099869845975\n",
      "----------------\n"
     ]
    }
   ],
   "source": [
    "# クォーターニオンの微分\n",
    "def q_derivative(q, roll, pitch, yaw):\n",
    "    v = np.array([np.deg2rad(roll) , np.deg2rad(pitch), np.deg2rad(yaw)])\n",
    "    q1 = q.derivative(v)\n",
    "    print_quat(q1)\n",
    "    \n",
    "\n",
    "q0 = Quaternion()\n",
    "q_derivative(q0, 90, 0, 0)\n",
    "q_derivative(q0, 0, 90, 0)\n",
    "q_derivative(q0, 0, 0, 90)\n",
    "q_derivative(q0, 30, 0, 0)\n",
    "q_derivative(q0, 0, 30, 0)\n",
    "q_derivative(q0, 0, 0, 30)\n",
    "\n",
    "q_derivative(q0, 30, 45, 60)\n",
    "\n",
    "q0 = init_quat(30, 45, 60)\n",
    "q0 = Quaternion(q0[0], q0[1], q0[2], q0[3])\n",
    "q_derivative(q0, 1, 2, 3)\n",
    "\n",
    "q0 = init_quat(30, 45, 60)\n",
    "q0 = Quaternion(q0[0], q0[1], q0[2], q0[3])\n",
    "\n"
   ]
  },
  {
   "cell_type": "code",
   "execution_count": 62,
   "id": "d6077ec0",
   "metadata": {},
   "outputs": [
    {
     "name": "stdout",
     "output_type": "stream",
     "text": [
      "----------------\n",
      "quat\n",
      "0.9999619230641713, 0.008726535498373935, 0.0, 0.0\n",
      "----------------\n",
      "----------------\n",
      "quat\n",
      "0.9999238475781956, 0.008726203218641756, 0.008726203218641756, 7.615242180438042e-05\n",
      "----------------\n"
     ]
    }
   ],
   "source": [
    "# 参考\n",
    "# クォーターニオンの積分\n",
    "def q_integtate(q, roll, pitch, yaw):\n",
    "    v = np.array([np.deg2rad(roll) , np.deg2rad(pitch), np.deg2rad(yaw)])\n",
    "    q1 = q\n",
    "    q1.integrate(v, 1)\n",
    "    print_quat(q1)\n",
    "\n",
    "\n",
    "\n",
    "q0 = Quaternion()\n",
    "q_integtate(q0, 1, 0, 0)\n",
    "q_integtate(q0, 0, 1, 0)\n",
    "\n",
    "# q_integtate(q0, 0, 90, 0)\n",
    "# q_integtate(q0, 0, 0, 90)"
   ]
  },
  {
   "cell_type": "code",
   "execution_count": 63,
   "id": "9467c4dd",
   "metadata": {},
   "outputs": [
    {
     "name": "stdout",
     "output_type": "stream",
     "text": [
      "quaternion(1, 0, 0, 0)\n",
      "時間(s): [0. 1.]\n",
      "回転 クォーターニオン: [quaternion(1, 0, 0, 0)\n",
      " quaternion(0.923879532511104, 0.382683432365029, 0, 0)]\n"
     ]
    }
   ],
   "source": [
    "# 参考\n",
    "# クォーターニオンの積分\n",
    "times = np.array([0.0, 1.0])\n",
    "angular_velocities = np.array([[0.0, 0.0, 0.0],\n",
    "                               [np.deg2rad(90) , np.deg2rad(0), np.deg2rad(0)]])\n",
    "omega = (times, angular_velocities)\n",
    "\n",
    "# 初期姿勢 (省略可能、デフォルトは単位クォータニオン)\n",
    "initial_quaternion = quaternion.one\n",
    "print(initial_quaternion)\n",
    "\n",
    "# 積分を実行\n",
    "time, rotations = quaternion.integrate_angular_velocity(omega, times[0], times[-1])\n",
    "\n",
    "print(\"時間(s):\", time)\n",
    "print(\"回転 クォーターニオン:\", rotations)"
   ]
  }
 ],
 "metadata": {
  "kernelspec": {
   "display_name": ".python3_venv",
   "language": "python",
   "name": "python3"
  },
  "language_info": {
   "codemirror_mode": {
    "name": "ipython",
    "version": 3
   },
   "file_extension": ".py",
   "mimetype": "text/x-python",
   "name": "python",
   "nbconvert_exporter": "python",
   "pygments_lexer": "ipython3",
   "version": "3.12.3"
  }
 },
 "nbformat": 4,
 "nbformat_minor": 5
}
